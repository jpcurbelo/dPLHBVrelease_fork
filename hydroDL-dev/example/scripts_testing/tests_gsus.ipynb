{
 "cells": [
  {
   "cell_type": "code",
   "execution_count": 37,
   "metadata": {},
   "outputs": [],
   "source": [
    "import pandas as pd\n",
    "from pandas.api.types import is_numeric_dtype, is_string_dtype\n",
    "import os"
   ]
  },
  {
   "cell_type": "code",
   "execution_count": 38,
   "metadata": {},
   "outputs": [
    {
     "data": {
      "text/html": [
       "<div>\n",
       "<style scoped>\n",
       "    .dataframe tbody tr th:only-of-type {\n",
       "        vertical-align: middle;\n",
       "    }\n",
       "\n",
       "    .dataframe tbody tr th {\n",
       "        vertical-align: top;\n",
       "    }\n",
       "\n",
       "    .dataframe thead th {\n",
       "        text-align: right;\n",
       "    }\n",
       "</style>\n",
       "<table border=\"1\" class=\"dataframe\">\n",
       "  <thead>\n",
       "    <tr style=\"text-align: right;\">\n",
       "      <th></th>\n",
       "      <th>gauge_id</th>\n",
       "      <th>geol_1st_class</th>\n",
       "      <th>geol_2nd_class</th>\n",
       "    </tr>\n",
       "  </thead>\n",
       "  <tbody>\n",
       "    <tr>\n",
       "      <th>0</th>\n",
       "      <td>1013500</td>\n",
       "      <td>Siliciclastic sedimentary rocks</td>\n",
       "      <td>Basic volcanic rocks</td>\n",
       "    </tr>\n",
       "    <tr>\n",
       "      <th>1</th>\n",
       "      <td>1022500</td>\n",
       "      <td>Acid plutonic rocks</td>\n",
       "      <td>Siliciclastic sedimentary rocks</td>\n",
       "    </tr>\n",
       "    <tr>\n",
       "      <th>2</th>\n",
       "      <td>1030500</td>\n",
       "      <td>Siliciclastic sedimentary rocks</td>\n",
       "      <td>Metamorphics</td>\n",
       "    </tr>\n",
       "    <tr>\n",
       "      <th>3</th>\n",
       "      <td>1031500</td>\n",
       "      <td>Siliciclastic sedimentary rocks</td>\n",
       "      <td>Metamorphics</td>\n",
       "    </tr>\n",
       "    <tr>\n",
       "      <th>4</th>\n",
       "      <td>1047000</td>\n",
       "      <td>Metamorphics</td>\n",
       "      <td>Acid plutonic rocks</td>\n",
       "    </tr>\n",
       "    <tr>\n",
       "      <th>5</th>\n",
       "      <td>1052500</td>\n",
       "      <td>Siliciclastic sedimentary rocks</td>\n",
       "      <td>Metamorphics</td>\n",
       "    </tr>\n",
       "    <tr>\n",
       "      <th>6</th>\n",
       "      <td>1054200</td>\n",
       "      <td>Metamorphics</td>\n",
       "      <td>Siliciclastic sedimentary rocks</td>\n",
       "    </tr>\n",
       "    <tr>\n",
       "      <th>7</th>\n",
       "      <td>1055000</td>\n",
       "      <td>Siliciclastic sedimentary rocks</td>\n",
       "      <td>Metamorphics</td>\n",
       "    </tr>\n",
       "    <tr>\n",
       "      <th>8</th>\n",
       "      <td>1057000</td>\n",
       "      <td>Metamorphics</td>\n",
       "      <td>Acid plutonic rocks</td>\n",
       "    </tr>\n",
       "    <tr>\n",
       "      <th>9</th>\n",
       "      <td>1073000</td>\n",
       "      <td>Metamorphics</td>\n",
       "      <td>Acid plutonic rocks</td>\n",
       "    </tr>\n",
       "    <tr>\n",
       "      <th>10</th>\n",
       "      <td>1078000</td>\n",
       "      <td>Acid plutonic rocks</td>\n",
       "      <td>Metamorphics</td>\n",
       "    </tr>\n",
       "    <tr>\n",
       "      <th>11</th>\n",
       "      <td>1118300</td>\n",
       "      <td>Acid plutonic rocks</td>\n",
       "      <td>Metamorphics</td>\n",
       "    </tr>\n",
       "    <tr>\n",
       "      <th>12</th>\n",
       "      <td>1121000</td>\n",
       "      <td>Metamorphics</td>\n",
       "      <td>NA</td>\n",
       "    </tr>\n",
       "    <tr>\n",
       "      <th>13</th>\n",
       "      <td>1123000</td>\n",
       "      <td>Metamorphics</td>\n",
       "      <td>NA</td>\n",
       "    </tr>\n",
       "    <tr>\n",
       "      <th>14</th>\n",
       "      <td>1134500</td>\n",
       "      <td>Metamorphics</td>\n",
       "      <td>Acid plutonic rocks</td>\n",
       "    </tr>\n",
       "    <tr>\n",
       "      <th>15</th>\n",
       "      <td>1137500</td>\n",
       "      <td>Acid plutonic rocks</td>\n",
       "      <td>Metamorphics</td>\n",
       "    </tr>\n",
       "    <tr>\n",
       "      <th>16</th>\n",
       "      <td>1139000</td>\n",
       "      <td>Carbonate sedimentary rocks</td>\n",
       "      <td>Acid plutonic rocks</td>\n",
       "    </tr>\n",
       "    <tr>\n",
       "      <th>17</th>\n",
       "      <td>1139800</td>\n",
       "      <td>Carbonate sedimentary rocks</td>\n",
       "      <td>NA</td>\n",
       "    </tr>\n",
       "    <tr>\n",
       "      <th>18</th>\n",
       "      <td>1142500</td>\n",
       "      <td>Carbonate sedimentary rocks</td>\n",
       "      <td>Metamorphics</td>\n",
       "    </tr>\n",
       "    <tr>\n",
       "      <th>19</th>\n",
       "      <td>1144000</td>\n",
       "      <td>Metamorphics</td>\n",
       "      <td>Carbonate sedimentary rocks</td>\n",
       "    </tr>\n",
       "  </tbody>\n",
       "</table>\n",
       "</div>"
      ],
      "text/plain": [
       "    gauge_id                   geol_1st_class                   geol_2nd_class\n",
       "0    1013500  Siliciclastic sedimentary rocks             Basic volcanic rocks\n",
       "1    1022500              Acid plutonic rocks  Siliciclastic sedimentary rocks\n",
       "2    1030500  Siliciclastic sedimentary rocks                     Metamorphics\n",
       "3    1031500  Siliciclastic sedimentary rocks                     Metamorphics\n",
       "4    1047000                     Metamorphics              Acid plutonic rocks\n",
       "5    1052500  Siliciclastic sedimentary rocks                     Metamorphics\n",
       "6    1054200                     Metamorphics  Siliciclastic sedimentary rocks\n",
       "7    1055000  Siliciclastic sedimentary rocks                     Metamorphics\n",
       "8    1057000                     Metamorphics              Acid plutonic rocks\n",
       "9    1073000                     Metamorphics              Acid plutonic rocks\n",
       "10   1078000              Acid plutonic rocks                     Metamorphics\n",
       "11   1118300              Acid plutonic rocks                     Metamorphics\n",
       "12   1121000                     Metamorphics                               NA\n",
       "13   1123000                     Metamorphics                               NA\n",
       "14   1134500                     Metamorphics              Acid plutonic rocks\n",
       "15   1137500              Acid plutonic rocks                     Metamorphics\n",
       "16   1139000      Carbonate sedimentary rocks              Acid plutonic rocks\n",
       "17   1139800      Carbonate sedimentary rocks                               NA\n",
       "18   1142500      Carbonate sedimentary rocks                     Metamorphics\n",
       "19   1144000                     Metamorphics      Carbonate sedimentary rocks"
      ]
     },
     "execution_count": 38,
     "metadata": {},
     "output_type": "execute_result"
    }
   ],
   "source": [
    "# Import camels_geol.txt as a pandas DataFrame: geol\n",
    "\n",
    "geol = pd.read_csv('camels_geol.txt', sep=';', header=0, na_values=[], na_filter=False)\n",
    "\n",
    "geol = geol[['gauge_id', 'geol_1st_class', 'geol_2nd_class']]\n",
    "\n",
    "geol.head(20)"
   ]
  },
  {
   "cell_type": "code",
   "execution_count": 39,
   "metadata": {},
   "outputs": [
    {
     "data": {
      "text/plain": [
       "(True, True)"
      ]
     },
     "execution_count": 39,
     "metadata": {},
     "output_type": "execute_result"
    }
   ],
   "source": [
    "is_string_dtype(geol['geol_1st_class']), is_string_dtype(geol['geol_2nd_class'])"
   ]
  },
  {
   "cell_type": "code",
   "execution_count": 40,
   "metadata": {},
   "outputs": [],
   "source": [
    "for index, row in geol.iterrows():\n",
    "    if not isinstance(row['geol_2nd_class'], str):\n",
    "        print(row)"
   ]
  },
  {
   "cell_type": "code",
   "execution_count": 41,
   "metadata": {},
   "outputs": [
    {
     "name": "stdout",
     "output_type": "stream",
     "text": [
      "Column 'geol_2nd_class' is of string dtype.\n"
     ]
    }
   ],
   "source": [
    "# Assuming geol_2nd_class is the column you want to check\n",
    "# Replace \"NA\" entries with NaN values\n",
    "geol['geol_2nd_class'] = geol['geol_2nd_class'].replace('NA', \"No Value\")\n",
    "\n",
    "# Now check if the column is of string dtype\n",
    "if pd.api.types.is_string_dtype(geol['geol_2nd_class']):\n",
    "    print(\"Column 'geol_2nd_class' is of string dtype.\")\n",
    "else:\n",
    "    print(\"Column 'geol_2nd_class' is not of string dtype.\")"
   ]
  },
  {
   "cell_type": "code",
   "execution_count": 45,
   "metadata": {},
   "outputs": [],
   "source": [
    "out =  'data/rnnStreamflow/CAMELSDemo/dPLHBV/ALL/Testforc/daymet/BuffOpt0/RMSE_para0.25/111111/Fold1/T_19801001_19951001_BS_100_HS_256_RHO_365_NF_12_Buff_365_Mul_16'\n",
    "if not os.path.isdir(out):\n",
    "    os.makedirs(out)"
   ]
  }
 ],
 "metadata": {
  "kernelspec": {
   "display_name": "venv-dPLHBVrelease",
   "language": "python",
   "name": "python3"
  },
  "language_info": {
   "codemirror_mode": {
    "name": "ipython",
    "version": 3
   },
   "file_extension": ".py",
   "mimetype": "text/x-python",
   "name": "python",
   "nbconvert_exporter": "python",
   "pygments_lexer": "ipython3",
   "version": "3.9.5"
  }
 },
 "nbformat": 4,
 "nbformat_minor": 2
}
